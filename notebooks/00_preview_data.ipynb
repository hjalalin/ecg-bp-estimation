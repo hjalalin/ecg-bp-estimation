{
 "cells": [
  {
   "cell_type": "markdown",
   "id": "240b3b8c",
   "metadata": {},
   "source": [
    "# 00 — Preview VitalDB Data\n",
    "\n",
    "This notebook:\n",
    "1. Discovers VitalDB cases with `ECG_II` and `ART`.\n",
    "2. Loads a small subset at 100 Hz.\n",
    "3. Preprocesses ECG and detects R-peaks.\n",
    "4. Computes per-beat SBP/DBP/MBP from `ART` between consecutive R-peaks.\n",
    "5. Saves a beat-level table to `data/interim/beat_table.parquet`.\n",
    "\n",
    "> Ensure you've installed dependencies: `vitaldb`, `pandas`, `numpy`, `scipy`, `pyarrow`, `matplotlib`, `neurokit2`."
   ]
  },
  {
   "cell_type": "code",
   "execution_count": null,
   "id": "ff7d3fe8",
   "metadata": {},
   "outputs": [],
   "source": [
    "# Optional installs (uncomment locally)\n",
    "# !pip install vitaldb neurokit2 wfdb pandas numpy scipy pyarrow matplotlib"
   ]
  },
  {
   "cell_type": "code",
   "execution_count": null,
   "id": "06fad824",
   "metadata": {},
   "outputs": [],
   "source": [
    "from pathlib import Path\n",
    "import numpy as np\n",
    "import pandas as pd\n",
    "import matplotlib.pyplot as plt\n",
    "import neurokit2 as nk\n",
    "import vitaldb\n",
    "\n",
    "# Project paths (adjust if running outside repo)\n",
    "DATA_RAW = Path('data/raw')\n",
    "DATA_INTERIM = Path('data/interim')\n",
    "DATA_RAW.mkdir(parents=True, exist_ok=True)\n",
    "DATA_INTERIM.mkdir(parents=True, exist_ok=True)"
   ]
  },
  {
   "cell_type": "markdown",
   "id": "f0945cc4",
   "metadata": {},
   "source": [
    "## 1) Find cases with ECG+ART"
   ]
  },
  {
   "cell_type": "code",
   "execution_count": null,
   "id": "d69cd072",
   "metadata": {},
   "outputs": [],
   "source": [
    "caseids = list(map(int, vitaldb.find_cases(['ECG_II','ART'])))\n",
    "print(f'Found {len(caseids)} cases with ECG_II and ART')\n",
    "caseids[:10]"
   ]
  },
  {
   "cell_type": "markdown",
   "id": "0b7b21a6",
   "metadata": {},
   "source": [
    "## 2) Load one case at 100 Hz"
   ]
  },
  {
   "cell_type": "code",
   "execution_count": null,
   "id": "7825fb89",
   "metadata": {},
   "outputs": [],
   "source": [
    "fs = 100\n",
    "interval = 1.0/fs\n",
    "cid = caseids[0]\n",
    "arr = vitaldb.load_case(cid, ['ECG_II','ART'], interval)\n",
    "print(arr.shape)\n",
    "\n",
    "ecg = arr[:,0]\n",
    "art = arr[:,1]\n",
    "t = np.arange(len(ecg))*interval\n",
    "\n",
    "# basic frame\n",
    "import pandas as pd\n",
    "df = pd.DataFrame({'t':t,'ECG_II':ecg,'ART':art,'subject_id':cid})\n",
    "df.head()"
   ]
  },
  {
   "cell_type": "markdown",
   "id": "44bab074",
   "metadata": {},
   "source": [
    "## 3) Quick plots"
   ]
  },
  {
   "cell_type": "code",
   "execution_count": null,
   "id": "ed7caf7a",
   "metadata": {},
   "outputs": [],
   "source": [
    "plt.figure()\n",
    "plt.plot(t[:5000], ecg[:5000])\n",
    "plt.title('ECG_II (first 50 s)')\n",
    "plt.xlabel('Time (s)')\n",
    "plt.ylabel('mV')\n",
    "plt.show()"
   ]
  },
  {
   "cell_type": "code",
   "execution_count": null,
   "id": "141acb89",
   "metadata": {},
   "outputs": [],
   "source": [
    "plt.figure()\n",
    "plt.plot(t[:5000], art[:5000])\n",
    "plt.title('ART (first 50 s)')\n",
    "plt.xlabel('Time (s)')\n",
    "plt.ylabel('mmHg')\n",
    "plt.show()"
   ]
  },
  {
   "cell_type": "markdown",
   "id": "e641bcdd",
   "metadata": {},
   "source": [
    "## 4) R-peaks + per-beat labels (SBP/DBP/MBP)"
   ]
  },
  {
   "cell_type": "code",
   "execution_count": null,
   "id": "6fbabbed",
   "metadata": {},
   "outputs": [],
   "source": [
    "ecg_clean = nk.ecg_clean(ecg, sampling_rate=fs)\n",
    "_, rdict = nk.ecg_peaks(ecg_clean, sampling_rate=fs)\n",
    "r_samples = rdict['ECG_R_Peaks']\n",
    "r_times = r_samples / fs\n",
    "\n",
    "rows = []\n",
    "for i in range(len(r_samples)-1):\n",
    "    a, b = r_samples[i], r_samples[i+1]\n",
    "    seg = art[a:b]\n",
    "    if len(seg) < 5:\n",
    "        continue\n",
    "    sbp = float(np.max(seg))\n",
    "    dbp = float(np.min(seg))\n",
    "    mbp = float(np.trapz(seg, dx=1/fs) / ((b-a)/fs))\n",
    "    rows.append((cid, i, r_times[i], sbp, dbp, mbp))\n",
    "\n",
    "beat_df = pd.DataFrame(rows, columns=['subject_id','beat_idx','r_time','SBP','DBP','MBP'])\n",
    "beat_df.head()"
   ]
  },
  {
   "cell_type": "markdown",
   "id": "5c6eb943",
   "metadata": {},
   "source": [
    "### Save beat table"
   ]
  },
  {
   "cell_type": "code",
   "execution_count": null,
   "id": "026f2d81",
   "metadata": {},
   "outputs": [],
   "source": [
    "outp = DATA_INTERIM / 'beat_table.parquet'\n",
    "beat_df.to_parquet(outp, index=False)\n",
    "outp"
   ]
  }
 ],
 "metadata": {},
 "nbformat": 4,
 "nbformat_minor": 5
}
