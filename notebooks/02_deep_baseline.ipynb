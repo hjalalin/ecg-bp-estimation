{
 "cells": [
  {
   "cell_type": "markdown",
   "id": "06d3161d",
   "metadata": {},
   "source": [
    "# 02 — Deep Baseline (Conv1D on ECG windows)\n",
    "\n",
    "This notebook:\n",
    "1. Builds beat-centered ECG windows from raw ECG (requires `00_preview_data` raw arrays or cached raw Parquet).\n",
    "2. Trains a tiny Conv1D with two heads (SBP, DBP).\n",
    "3. Evaluates with subject-wise splits and plots.\n",
    "\n",
    "> Keep it light: this is a **baseline**, not a tuned SOTA model."
   ]
  },
  {
   "cell_type": "code",
   "execution_count": null,
   "id": "af3ec341",
   "metadata": {},
   "outputs": [],
   "source": [
    "# Optional installs (uncomment locally)\n",
    "# !pip install torch numpy pandas matplotlib scikit-learn"
   ]
  },
  {
   "cell_type": "code",
   "execution_count": null,
   "id": "86ab3c4c",
   "metadata": {},
   "outputs": [],
   "source": [
    "from pathlib import Path\n",
    "import numpy as np\n",
    "import pandas as pd\n",
    "import matplotlib.pyplot as plt\n",
    "import torch\n",
    "from torch import nn\n",
    "from sklearn.model_selection import GroupKFold\n",
    "from sklearn.metrics import mean_absolute_error, mean_squared_error\n",
    "from scipy.stats import pearsonr\n",
    "\n",
    "DATA_RAW = Path('data/raw')\n",
    "DATA_INTERIM = Path('data/interim')\n",
    "beat_df = pd.read_parquet(DATA_INTERIM/'beat_table.parquet')\n",
    "beat_df = beat_df.sort_values(['subject_id','beat_idx']).reset_index(drop=True)"
   ]
  },
  {
   "cell_type": "markdown",
   "id": "79831afa",
   "metadata": {},
   "source": [
    "## 1) Build beat-centered windows (demo)\n",
    "This demo creates synthetic windows as placeholders (since raw ECG is not cached in this notebook). Replace with real ECG windows using your cached raw Parquets for full training."
   ]
  },
  {
   "cell_type": "code",
   "execution_count": null,
   "id": "f90b457e",
   "metadata": {},
   "outputs": [],
   "source": [
    "window_sec = 4.0\n",
    "fs = 100\n",
    "win = int(window_sec*fs)\n",
    "\n",
    "# Placeholder toy windows: in real use, slice ECG around each beat\n",
    "# Here we create a simple sine-like window with tiny variations just to test the pipeline\n",
    "rng = np.random.default_rng(0)\n",
    "X = rng.normal(0, 0.05, size=(len(beat_df), win)).astype(np.float32)\n",
    "\n",
    "y = np.stack([beat_df['SBP'].values, beat_df['DBP'].values], axis=1).astype(np.float32)\n",
    "groups = beat_df['subject_id'].values"
   ]
  },
  {
   "cell_type": "markdown",
   "id": "6a4ee7ec",
   "metadata": {},
   "source": [
    "## 2) Tiny Conv1D model"
   ]
  },
  {
   "cell_type": "code",
   "execution_count": null,
   "id": "79c5f00b",
   "metadata": {},
   "outputs": [],
   "source": [
    "class TinyConv1D(nn.Module):\n",
    "    def __init__(self, in_ch=1, out_dim=2):\n",
    "        super().__init__()\n",
    "        self.net = nn.Sequential(\n",
    "            nn.Conv1d(in_ch, 8, 5, stride=2, padding=2), nn.ReLU(),\n",
    "            nn.Conv1d(8, 16, 5, stride=2, padding=2), nn.ReLU(),\n",
    "            nn.AdaptiveAvgPool1d(1)\n",
    "        )\n",
    "        self.head = nn.Sequential(nn.Flatten(), nn.Linear(16, 32), nn.ReLU(), nn.Linear(32, out_dim))\n",
    "    def forward(self, x):\n",
    "        z = self.net(x)\n",
    "        return self.head(z)\n",
    "\n",
    "model = TinyConv1D()\n",
    "criterion = nn.L1Loss()\n",
    "optimizer = torch.optim.Adam(model.parameters(), lr=1e-3)"
   ]
  },
  {
   "cell_type": "markdown",
   "id": "7b0e77c3",
   "metadata": {},
   "source": [
    "## 3) Subject-wise CV training (1 epoch for speed)"
   ]
  },
  {
   "cell_type": "code",
   "execution_count": null,
   "id": "8c1dcd87",
   "metadata": {},
   "outputs": [],
   "source": [
    "gkf = GroupKFold(n_splits=5)\n",
    "all_metrics = []\n",
    "X_t = torch.from_numpy(X)[:, None, :]\n",
    "y_t = torch.from_numpy(y)\n",
    "\n",
    "for split, (tr, va) in enumerate(gkf.split(X, y, groups), 1):\n",
    "    m = TinyConv1D()\n",
    "    opt = torch.optim.Adam(m.parameters(), lr=1e-3)\n",
    "    # one tiny epoch\n",
    "    m.train()\n",
    "    for _ in range(1):\n",
    "        opt.zero_grad()\n",
    "        pred = m(X_t[tr])\n",
    "        loss = criterion(pred, y_t[tr])\n",
    "        loss.backward()\n",
    "        opt.step()\n",
    "    # eval\n",
    "    m.eval()\n",
    "    with torch.no_grad():\n",
    "        p = m(X_t[va]).numpy()\n",
    "    mae_sbp = mean_absolute_error(y[va,0], p[:,0])\n",
    "    rmse_sbp = mean_squared_error(y[va,0], p[:,0], squared=False)\n",
    "    r_sbp = pearsonr(y[va,0], p[:,0])[0]\n",
    "\n",
    "    mae_dbp = mean_absolute_error(y[va,1], p[:,1])\n",
    "    rmse_dbp = mean_squared_error(y[va,1], p[:,1], squared=False)\n",
    "    r_dbp = pearsonr(y[va,1], p[:,1])[0]\n",
    "\n",
    "    all_metrics.append((split, mae_sbp, rmse_sbp, r_sbp, mae_dbp, rmse_dbp, r_dbp))\n",
    "\n",
    "pd.DataFrame(all_metrics, columns=['Split','MAE_SBP','RMSE_SBP','r_SBP','MAE_DBP','RMSE_DBP','r_DBP'])"
   ]
  },
  {
   "cell_type": "markdown",
   "id": "fd968237",
   "metadata": {},
   "source": [
    "## 4) Example plot"
   ]
  },
  {
   "cell_type": "code",
   "execution_count": null,
   "id": "ce3fa340",
   "metadata": {},
   "outputs": [],
   "source": [
    "plt.figure()\n",
    "plt.plot(y[:200,0])\n",
    "plt.plot(y[:200,1])\n",
    "plt.title('Example: SBP/DBP values (first 200 beats)')\n",
    "plt.xlabel('Beat index')\n",
    "plt.ylabel('mmHg')\n",
    "plt.show()"
   ]
  }
 ],
 "metadata": {},
 "nbformat": 4,
 "nbformat_minor": 5
}
