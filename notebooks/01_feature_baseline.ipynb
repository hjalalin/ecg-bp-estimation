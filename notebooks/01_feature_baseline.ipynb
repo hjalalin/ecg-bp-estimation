{
 "cells": [
  {
   "cell_type": "markdown",
   "id": "6d3d7523",
   "metadata": {},
   "source": [
    "# 01 — Feature Baseline (ECG-only)\n",
    "\n",
    "This notebook:\n",
    "1. Loads the beat-level table produced in `00_preview_data`.\n",
    "2. Builds ECG-only features per beat (HR/HRV + simple morphology around R).\n",
    "3. Trains Ridge/XGBoost with **GroupKFold** by `subject_id`.\n",
    "4. Reports MAE/RMSE/Pearson r and makes Bland–Altman plots."
   ]
  },
  {
   "cell_type": "code",
   "execution_count": null,
   "id": "b194eee7",
   "metadata": {},
   "outputs": [],
   "source": [
    "# Optional installs (uncomment locally)\n",
    "# !pip install pandas numpy scipy pyarrow scikit-learn xgboost matplotlib neurokit2"
   ]
  },
  {
   "cell_type": "code",
   "execution_count": null,
   "id": "1830373b",
   "metadata": {},
   "outputs": [],
   "source": [
    "from pathlib import Path\n",
    "import numpy as np\n",
    "import pandas as pd\n",
    "import matplotlib.pyplot as plt\n",
    "from sklearn.model_selection import GroupKFold\n",
    "from sklearn.linear_model import Ridge\n",
    "from sklearn.metrics import mean_absolute_error, mean_squared_error\n",
    "from scipy.stats import pearsonr\n",
    "\n",
    "DATA_INTERIM = Path('data/interim')\n",
    "DATA_PROCESSED = Path('data/processed')\n",
    "DATA_PROCESSED.mkdir(parents=True, exist_ok=True)\n",
    "\n",
    "beat_df = pd.read_parquet(DATA_INTERIM/'beat_table.parquet')\n",
    "beat_df.head()"
   ]
  },
  {
   "cell_type": "markdown",
   "id": "cd32d9ca",
   "metadata": {},
   "source": [
    "## 1) Simple ECG-only features\n",
    "Here we synthesize a few simple per-beat features from timings. For a richer set, you would build from ECG windows around R."
   ]
  },
  {
   "cell_type": "code",
   "execution_count": null,
   "id": "e699b365",
   "metadata": {},
   "outputs": [],
   "source": [
    "# For demo, compute RR interval-derived HR and simple deltas\n",
    "beat_df = beat_df.sort_values(['subject_id','beat_idx']).reset_index(drop=True)\n",
    "\n",
    "# Approximate RR from r_time\n",
    "beat_df['RR'] = beat_df.groupby('subject_id')['r_time'].diff().fillna(method='bfill')\n",
    "beat_df['HR'] = 60.0 / beat_df['RR'].clip(lower=1e-3)\n",
    "\n",
    "# Rolling stats (proxy HRV)\n",
    "beat_df['HR_mean_5'] = beat_df.groupby('subject_id')['HR'].rolling(5, min_periods=1).mean().reset_index(0,drop=True)\n",
    "beat_df['HR_std_5']  = beat_df.groupby('subject_id')['HR'].rolling(5, min_periods=1).std().reset_index(0,drop=True).fillna(0.0)\n",
    "\n",
    "features = ['HR','HR_mean_5','HR_std_5']\n",
    "X = beat_df[features].values\n",
    "y_sbp = beat_df['SBP'].values\n",
    "y_dbp = beat_df['DBP'].values\n",
    "groups = beat_df['subject_id'].values"
   ]
  },
  {
   "cell_type": "markdown",
   "id": "4ccf20b4",
   "metadata": {},
   "source": [
    "## 2) Subject-wise CV (GroupKFold) + Ridge"
   ]
  },
  {
   "cell_type": "code",
   "execution_count": null,
   "id": "567ebb8c",
   "metadata": {},
   "outputs": [],
   "source": [
    "gkf = GroupKFold(n_splits=5)\n",
    "\n",
    "metrics = []\n",
    "for target, y in [('SBP', y_sbp), ('DBP', y_dbp)]:\n",
    "    preds = np.zeros_like(y, dtype=float)\n",
    "    for tr, va in gkf.split(X, y, groups):\n",
    "        m = Ridge(alpha=1.0)\n",
    "        m.fit(X[tr], y[tr])\n",
    "        preds[va] = m.predict(X[va])\n",
    "    mae = mean_absolute_error(y, preds)\n",
    "    rmse = mean_squared_error(y, preds, squared=False)\n",
    "    r, _ = pearsonr(y, preds)\n",
    "    metrics.append((target, mae, rmse, float(r)))\n",
    "\n",
    "pd.DataFrame(metrics, columns=['Target','MAE','RMSE','Pearson r'])"
   ]
  },
  {
   "cell_type": "markdown",
   "id": "03b2a81e",
   "metadata": {},
   "source": [
    "## 3) Bland–Altman plots"
   ]
  },
  {
   "cell_type": "code",
   "execution_count": null,
   "id": "05e70365",
   "metadata": {},
   "outputs": [],
   "source": [
    "def bland_altman(y_true, y_pred):\n",
    "    m = (y_true + y_pred)/2.0\n",
    "    d = y_pred - y_true\n",
    "    md = float(np.mean(d))\n",
    "    sd = float(np.std(d, ddof=1))\n",
    "    loa_lo = md - 1.96*sd\n",
    "    loa_hi = md + 1.96*sd\n",
    "    plt.figure()\n",
    "    plt.scatter(m, d, s=5)\n",
    "    plt.axhline(md)\n",
    "    plt.axhline(loa_lo)\n",
    "    plt.axhline(loa_hi)\n",
    "    plt.title('Bland–Altman')\n",
    "    plt.xlabel('Mean of true & pred (mmHg)')\n",
    "    plt.ylabel('Pred - True (mmHg)')\n",
    "    plt.show()\n",
    "    return md, sd\n",
    "\n",
    "# Example for SBP from the last fold run above — recompute for display\n",
    "from sklearn.linear_model import Ridge\n",
    "preds = np.zeros_like(y_sbp, dtype=float)\n",
    "for tr, va in gkf.split(X, y_sbp, groups):\n",
    "    m = Ridge(alpha=1.0)\n",
    "    m.fit(X[tr], y_sbp[tr])\n",
    "    preds[va] = m.predict(X[va])\n",
    "_ = bland_altman(y_sbp, preds)"
   ]
  }
 ],
 "metadata": {},
 "nbformat": 4,
 "nbformat_minor": 5
}
